{
 "cells": [
  {
   "cell_type": "markdown",
   "metadata": {},
   "source": [
    "# Pengenalan Pemrograman \n",
    "*Indah Agustien Siradjuddin*\n",
    "\n",
    "Perkuliahan Algoritma Pemrograman pada Semester Ganjil 2018"
   ]
  },
  {
   "cell_type": "markdown",
   "metadata": {},
   "source": [
    "## Program\n",
    "\n",
    "**Program atau code** merupakan sekumpulan atau urutan instruksi bahasa pemrograman yang untuk menyelesaikan suatu permasalahan.\n",
    "\n",
    "**Pemrograman atau coding** upaya untuk merubah algoritma menjadi program atau intstruksi bahasa pemrograman sehingga dapat dieksekusi oleh komputer.\n",
    "\n",
    "## Bahasa Pemrograman\n",
    "\n",
    "Bahasa pemrograman terbagi atas :\n",
    "- *High Level language* :\n",
    "    - instruksi menggunakan bahasa yg dimengerti programmer, misal Bahasa Inggris --> **source code**\n",
    "    - lebih mudah dimengerti\n",
    "- *Low level language* :\n",
    "    - Menggunakan bahasa machine yang dapat dimengerti komputer --> **machine code**\n",
    "\n",
    "Agar source code dapat dieksekusi oleh komputer maka diperlukan proses untuk merubah source code menjadi machine code, yaitu melalui suatu intepreter atau compiler.\n",
    "Pada Intpreter, source code ditranslate dan diekseksekusi setiap instruksi atau syntax, sedangkan compiler discan terlebih dahulu semua instruksi yang ada, sehingga ketika terjadi error, perbaikan code menjadi lebih susah. \n",
    "Python merupakan salah satu contoh bahasa pemrograman yang bertipe intepreter.\n",
    "\n",
    "## Python\n",
    "\n",
    "Terdapat dua buah cara untuk menulis syntax pada Python:\n",
    "- command line mode.  Jika ingin ekseksekusi suatu syntax atau pengecekan terhadap syntax sederhana, dapat menggunakan mode ini, karena dapat diketahui secara langsung output syntax tersebut.\n",
    "![CL](images/commandLine.png)\n",
    "- script mode.  Penggunaaan mode script ini biasa digunakan untuk membuat suatu program secara keseluruhan, dan untuk mengeksekusi program-program pada mode ini, terlebih dahulu disimpan dalam suatu file dengan ekstensi *py*\n",
    "![script](images/script.png)\n",
    "\n",
    "\n",
    "    "
   ]
  },
  {
   "cell_type": "markdown",
   "metadata": {},
   "source": [
    "## Hello World\n",
    "\n",
    "Perintah untuk menampilkan 'Hello World'"
   ]
  },
  {
   "cell_type": "code",
   "execution_count": null,
   "metadata": {
    "collapsed": false
   },
   "outputs": [],
   "source": [
    "print ('Hello World')"
   ]
  },
  {
   "cell_type": "markdown",
   "metadata": {},
   "source": [
    "## Error\n",
    "\n",
    "Error atau juga yang dikenal juga dengan sebutan 'bug', seringkali ditemui oleh programmer ketika membuat atau menjalan suatu program.  Proses yang menelusuri atau mencari error ini disebut juga dengan 'debugging'.  \n",
    "\n",
    "Terdapat beberapa jenis error, yaitu :"
   ]
  },
  {
   "cell_type": "markdown",
   "metadata": {},
   "source": [
    "### Syntax Error\n",
    "\n",
    "Seperti namanya, error ini terjadi karena kesalahan syntax sehingga program tidak dapat diekseskusi sama sekali."
   ]
  },
  {
   "cell_type": "code",
   "execution_count": null,
   "metadata": {
    "collapsed": false
   },
   "outputs": [],
   "source": [
    "print \"hello world\""
   ]
  },
  {
   "cell_type": "code",
   "execution_count": null,
   "metadata": {
    "collapsed": false,
    "scrolled": true
   },
   "outputs": [],
   "source": [
    "for i in range(5)\n",
    "print(i)"
   ]
  },
  {
   "cell_type": "markdown",
   "metadata": {},
   "source": [
    "## Run time Error\n",
    "\n",
    "Run time error terjadi ketika program sedang dieksekusi, dan terjadi error."
   ]
  },
  {
   "cell_type": "code",
   "execution_count": null,
   "metadata": {
    "collapsed": false
   },
   "outputs": [],
   "source": [
    "a=[1,2,3,4]\n",
    "for i in range(5):\n",
    "    print (a[i])"
   ]
  },
  {
   "cell_type": "markdown",
   "metadata": {},
   "source": [
    "## Semantic Error\n",
    "\n",
    "Kesalahan yang terjadi karena kesalahan makna atau semantik.  Program dapat dijalankan (bebas dari kesalahan syntax), program menghasilkan output (bebas dari kesalahan run time error), akan tetapi output yang dihasilkan tidak sesuai dengan yang diinginkan.\n",
    "Misalkan diperlukan suatu instruksi untuk menampilkan deret matematika dengan suku awal=1, dan pembeda =2.  Maka berikut ini adalah program yang menghasilkan semantic error"
   ]
  },
  {
   "cell_type": "code",
   "execution_count": null,
   "metadata": {
    "collapsed": false,
    "scrolled": true
   },
   "outputs": [],
   "source": [
    "a=1\n",
    "for i in range(5) :\n",
    "    bilangan=a+2\n",
    "    print (bilangan)"
   ]
  },
  {
   "cell_type": "code",
   "execution_count": null,
   "metadata": {
    "collapsed": true
   },
   "outputs": [],
   "source": []
  }
 ],
 "metadata": {
  "kernelspec": {
   "display_name": "Python 3",
   "language": "python",
   "name": "python3"
  },
  "language_info": {
   "codemirror_mode": {
    "name": "ipython",
    "version": 3
   },
   "file_extension": ".py",
   "mimetype": "text/x-python",
   "name": "python",
   "nbconvert_exporter": "python",
   "pygments_lexer": "ipython3",
   "version": "3.6.0"
  }
 },
 "nbformat": 4,
 "nbformat_minor": 2
}
