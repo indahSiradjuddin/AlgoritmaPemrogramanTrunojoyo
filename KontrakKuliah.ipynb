{
 "cells": [
  {
   "cell_type": "markdown",
   "metadata": {},
   "source": [
    "# Algoritma Pemrograman \n",
    "*Indah Agustien Siradjuddin* : indah.siradjuddin@trunojoyo.ac.id\n",
    "\n",
    "## Kontrak Kuliah"
   ]
  },
  {
   "cell_type": "markdown",
   "metadata": {
    "collapsed": true
   },
   "source": [
    "### LMS\n",
    "Kode Edmodo :\n",
    "- Kelas C : fqjukf ; komting : kusuma gigih prakoso (085706546844)\n",
    "- Kelas D : fc9nj7\n",
    "\n",
    "Aturan Edmodo :\n",
    "- Surname/Last Name : NIM\n",
    "- First Name and Middle Name : Nama\n",
    "- Foto hadap depan, sopan\n",
    "\n",
    "### Penilaian  \n",
    "\n",
    "Komponen Penilaian :\n",
    "1. Praktikum - 30%\n",
    "2. UTS - 25%\n",
    "3. UAS - 30%\n",
    "4. Final Project - 10%\n",
    "5. Diskusi di dalam kelas - 5%"
   ]
  },
  {
   "cell_type": "markdown",
   "metadata": {},
   "source": [
    "### Praktikum\n",
    "\n",
    "Komponen Penilaian :\n",
    "- Plagiarism - 30%\n",
    "- Correctness - 40%\n",
    "- Late - 15%\n",
    "- Absence - 15%\n",
    "\n",
    "Detail akan dijelaskan pada pertemuan praktikum"
   ]
  },
  {
   "cell_type": "markdown",
   "metadata": {},
   "source": [
    "### UTS dan UAS\n",
    "\n",
    "- Multiple Choice\n",
    "- Live Code\n",
    "- Sifat : Open (book, laptop, note), tidak diperkenankan kerjasama\n",
    "- Nilai detail akan disampaikan pada saat Ujian\n"
   ]
  },
  {
   "cell_type": "markdown",
   "metadata": {},
   "source": [
    "### Kurikulum\n",
    "\n",
    "Algoritma Pemrograman adalah Mata Kuliah Jangkar\n",
    "\n",
    "![kurikulum](images/kurikulum.jpg)"
   ]
  },
  {
   "cell_type": "markdown",
   "metadata": {},
   "source": [
    "### Belajar Code\n",
    "\n",
    "https://studio.code.org/flappy/2\n"
   ]
  }
 ],
 "metadata": {
  "kernelspec": {
   "display_name": "Python 3",
   "language": "python",
   "name": "python3"
  },
  "language_info": {
   "codemirror_mode": {
    "name": "ipython",
    "version": 3
   },
   "file_extension": ".py",
   "mimetype": "text/x-python",
   "name": "python",
   "nbconvert_exporter": "python",
   "pygments_lexer": "ipython3",
   "version": "3.6.0"
  }
 },
 "nbformat": 4,
 "nbformat_minor": 2
}
