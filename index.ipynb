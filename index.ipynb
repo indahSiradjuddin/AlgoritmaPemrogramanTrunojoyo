{
 "cells": [
  {
   "cell_type": "markdown",
   "metadata": {},
   "source": [
    "# Algoritma Pemrograman \n",
    "*Indah Agustien Siradjuddin*\n",
    "\n",
    "## Rencana Perkuliahan Semester\n"
   ]
  },
  {
   "cell_type": "markdown",
   "metadata": {},
   "source": [
    "## Materi Perkuliahan\n",
    "Berikut daftar isi materi Algoritma Pemrograman selama satu Semester ini :\n",
    "\n",
    "## [Kontrak Perkuliahan](KontrakKuliah.ipynb)\n",
    "  \n",
    "\n",
    "### 1. Pengenalan Pemrograman\n",
    "  + [Pengenalan Pemrograman](introduction.ipynb)\n",
    "\n",
    "### 2. Programs, Variable, Operator \n",
    "\n",
    "  + [2.1-Programs](2_1-Programs.ipynb)\n",
    "  + [2.2-Data dan Tipe Data](2_2-dataType.ipynb)\n",
    "  + [2.3-Variabel](2_3-variable.ipynb)\n",
    "  + [2.4-Operator](2_4-operator.ipynb)\n",
    "     \n",
    "  \n",
    "### 3. Algoritma\n",
    "\n",
    "  + [3.1-Pengenalan Algoritma](3_1-Algoritma.ipynb)\n",
    "  + [3.2-Jenis Algoritma](3_2-jenisAlgoritma.ipynb)\n",
    "  + [3.3-FlowChart](3_3-flowChart.ipynb)\n",
    "\n",
    "### 4. String dan List\n",
    "  + [4.1 String](4_1-string.ipynb)\n",
    "  + [4.2 List](4_2-List.ipynb)\n",
    "\n",
    "### 5. Function dan Rekursif\n",
    "  + [5.1-Fungsi](05_1-Fungsi.ipynb)\n",
    "  + [5.2-Rekursif](05_2-Recursif.ipynb)\n",
    "\n",
    "\n",
    "### 6. Modul \n",
    "  + [Modul](6-Modul.ipynb)\n",
    "\n",
    "  \n",
    "### 7-Dictionaries\n",
    "  + [7.1-Dictionaries](7_1-Dictionaries.ipynb)\n",
    "  + [7.2-Formatting String dan File](stringFormat.ipynb)\n",
    "  + [7.3-Implementation](7_2-dictImplementation.ipynb)\n",
    "  \n",
    "### 8-PyGame\n",
    "  + [8-FinalProject](8_1-PyGameFinal.ipynb)"
   ]
  },
  {
   "cell_type": "code",
   "execution_count": null,
   "metadata": {
    "collapsed": true
   },
   "outputs": [],
   "source": []
  }
 ],
 "metadata": {
  "kernelspec": {
   "display_name": "Python 3",
   "language": "python",
   "name": "python3"
  },
  "language_info": {
   "codemirror_mode": {
    "name": "ipython",
    "version": 3
   },
   "file_extension": ".py",
   "mimetype": "text/x-python",
   "name": "python",
   "nbconvert_exporter": "python",
   "pygments_lexer": "ipython3",
   "version": "3.6.0"
  }
 },
 "nbformat": 4,
 "nbformat_minor": 2
}
